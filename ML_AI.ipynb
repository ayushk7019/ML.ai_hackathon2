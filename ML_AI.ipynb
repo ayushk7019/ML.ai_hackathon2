{
 "cells": [
  {
   "cell_type": "code",
   "execution_count": null,
   "id": "e0920e9f-8972-4f54-b46e-368851a2a657",
   "metadata": {},
   "outputs": [],
   "source": []
  }
 ],
 "metadata": {
  "kernelspec": {
   "display_name": "",
   "name": ""
  },
  "language_info": {
   "name": ""
  }
 },
 "nbformat": 4,
 "nbformat_minor": 5
}
